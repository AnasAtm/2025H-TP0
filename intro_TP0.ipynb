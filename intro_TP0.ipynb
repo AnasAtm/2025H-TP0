{
 "cells": [
  {
   "attachments": {},
   "cell_type": "markdown",
   "metadata": {},
   "source": [
    "# Bienvenue au TP0 du cours INF1007! :computer:\n",
    "\n",
    "<iframe src='https://gfycat.com/ifr/AdmiredUnlawfulBronco' frameborder='0' scrolling='no' allowfullscreen width='640' height='684'></iframe><p> <a href=\"https://gfycat.com/admiredunlawfulbronco\">via Gfycat</a></p>\n"
   ]
  },
  {
   "attachments": {},
   "cell_type": "markdown",
   "metadata": {},
   "source": [
    "## Remise des TPs et projets\n",
    "\n",
    "Il y aura 4 travaux pratiques (TPs) (20%) et 2 projets (20%) à remettre cette session. À noter:\n",
    "+ Les TPs sont réalisés en équipe de deux et les projets sont individuels.\n",
    "+ Des liens GitHub vers les répertoires des TPs/projets seront disponibles sur Moodle.\n",
    "+ Le TP1, le TP2 et le projet 1 seront à remettre sur Moodle. Le TP3, le TP4 et le projet 2 seront à remettre sur Github.\n",
    "+ Nous sommes ici pour répondre à vos questions durant les séances! \n",
    "  \n",
    "Voici les dates de remises:\n",
    "\n",
    "| TP / Projet      | Remise | Matière principale concernée     |\n",
    "| :---        |    :----:   |          ---: |\n",
    "| TP1      | Le 2 février 2025       | Chapitre 1 à 5 |\n",
    "| TP2      | Le 16 février 2025       | Chapitre 6 à 7   |\n",
    "| TP3      | Le 16 mars 2025       | Chapitre 7 à 9   |\n",
    "| TP4      | Le 13 avril 2025       | Chapitre 10 et 11   |\n",
    "|        |      |           |\n",
    "| Projet1      | Le 23 février 2025       | Chapitre 1 à 7   |\n",
    "| Projet2      | Le 13 avril 2025       | Chapitre 7 à 11  |\n",
    "\n",
    "*Ces informations sont aussi disponibles sur le Moodle du cours*\n",
    "\n",
    "### Formation des équipes\n",
    "Le choix de votre partenaire se fera via Moodle sous l'onglet Travaux pratiques > Choix d'équipe de travaux pratiques. Veuillez compléter le plus tôt possible !",
    "À noter que vous devez garder la même équipe pour tous les TP. À noter également que votre partenaire doit être inscrit dans la même séance de laboratoire que vous (L01, L02 ou L03)."
   ]
  },
  {
   "attachments": {},
   "cell_type": "markdown",
   "metadata": {},
   "source": [
    "## Liens intéressants pour vous aider à commencer!\n",
    "\n",
    "1. [Installation de VS Code](https://code.visualstudio.com/)*\n",
    "2. [Cours d'introduction sur Git et GitHub](https://emdupre.github.io/git-course/)\n",
    "3. [Lien vers un site montrant/réglant les fautes les plus communes sur Git](https://dangitgit.com/)\n",
    "4. [Stack Overflow pour répondre à vos problèmes syntaxiques et/ou algorithmiques](https://stackoverflow.com/)\n",
    "\n",
    "Il y a également d'autres informations additionnelles dans la section *Ressources utiles* sur Moodle\n",
    "\n",
   ]
  },
  {
   "attachments": {},
   "cell_type": "markdown",
   "metadata": {},
   "source": [
    "## Rendez-vous sur le README sur la page GitHub pour compléter le TP0...\n",
    "\n",
    "Ce premier tutoriel est simplement une familiarisation avec votre environnement de travail ainsi que les commandes Git/GitHub que vous allez utiliser le plus souvent durant les TPs/Projets de ce cours. Il y a plusieurs façon d'utiliser Git, mais les commandes principales via un terminal seront présentées."
   ]
  }
 ],
 "metadata": {
  "kernelspec": {
   "display_name": "base",
   "language": "python",
   "name": "python3"
  },
  "language_info": {
   "name": "python",
   "version": "3.7.4 (default, Aug  9 2019, 18:34:13) [MSC v.1915 64 bit (AMD64)]"
  },
  "orig_nbformat": 4,
  "vscode": {
   "interpreter": {
    "hash": "a7988532f152c91f2babc9af24f9da5f50a7faa68f11294c116577575353f74e"
   }
  }
 },
 "nbformat": 4,
 "nbformat_minor": 2
}
